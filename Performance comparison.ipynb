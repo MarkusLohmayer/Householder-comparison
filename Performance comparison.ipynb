{
 "cells": [
  {
   "cell_type": "markdown",
   "metadata": {},
   "source": [
    "## Comparison of various implementations of Householder QR factorization\n",
    "\n",
    "We implement the Householder algorithm for orthogonal triangularization in three different ways:\n",
    "\n",
    "- Python and Numpy\n",
    "- Python and Numpy and Numba (-> full jit compilation, no Python)\n",
    "- C++ and xtensor and Python/Numpy bindings (pybind11, xtensor-python)\n",
    "\n",
    "The actual algorithm will be the same in all three cases, only the technology to implement it will be different."
   ]
  },
  {
   "cell_type": "code",
   "execution_count": 1,
   "metadata": {},
   "outputs": [],
   "source": [
    "import numpy as np\n",
    "\n",
    "import numba"
   ]
  },
  {
   "cell_type": "code",
   "execution_count": 26,
   "metadata": {},
   "outputs": [],
   "source": [
    "# run \"pip install --upgrade --force-reinstall --no-deps .\" inside the house_cpp directory\n",
    "# to compile the C++ code and create the Python module, which wraps this code.\n",
    "import house_cpp"
   ]
  },
  {
   "cell_type": "markdown",
   "metadata": {},
   "source": [
    "###  Complex-valued test matrices of random shape\n",
    "\n",
    "We generate random matrices. These matrices have more rows than columns and their entries are complex-valued."
   ]
  },
  {
   "cell_type": "code",
   "execution_count": 2,
   "metadata": {},
   "outputs": [],
   "source": [
    "def generate_test_matrices(num=50):\n",
    "    matrices = []\n",
    "    \n",
    "    def generate_matrix(m, n):\n",
    "        re = np.random.rand(m, n)\n",
    "        im = np.random.rand(m, n)\n",
    "        return (re + 1j * im)\n",
    "    \n",
    "    for i in range(num):\n",
    "        two_random_ints = np.random.randint(low=2, high=100, size=2)\n",
    "        m, n = np.max(two_random_ints), np.min(two_random_ints)\n",
    "        matrices.append(generate_matrix(m, n))\n",
    "    \n",
    "    return matrices"
   ]
  },
  {
   "cell_type": "code",
   "execution_count": 3,
   "metadata": {},
   "outputs": [],
   "source": [
    "matrices  = generate_test_matrices(num=100)"
   ]
  },
  {
   "cell_type": "markdown",
   "metadata": {},
   "source": [
    "### Testing the implementations\n",
    "\n",
    "Each implementation consists of two methods. The first method computes the triangular matrix R by applying Householder reflections to the matrix. The vectors that describe the reflections are additionly returned in a matrix W. The second method computes an orthogonal matrix Q, given W."
   ]
  },
  {
   "cell_type": "code",
   "execution_count": 31,
   "metadata": {},
   "outputs": [],
   "source": [
    "def test_implementation(house, formQ, A):\n",
    "    m, n = A.shape\n",
    "    assert m >= n\n",
    "    \n",
    "    W, R = house(A)\n",
    "    Q = formQ(W)\n",
    "    \n",
    "    assert np.allclose(A, Q[:, :n].dot(R))"
   ]
  },
  {
   "cell_type": "code",
   "execution_count": 32,
   "metadata": {},
   "outputs": [],
   "source": [
    "def run_comparison(house, formQ):\n",
    "    for matrix in matrices:\n",
    "        test_implementation(house, formQ, matrix)"
   ]
  },
  {
   "cell_type": "markdown",
   "metadata": {},
   "source": [
    "### Python and Numpy implementation"
   ]
  },
  {
   "cell_type": "code",
   "execution_count": 24,
   "metadata": {},
   "outputs": [],
   "source": [
    "def house_numpy(A):\n",
    "    \"\"\"\n",
    "    Computes an implicit representation of a full QR factorization A = QR\n",
    "    of an m x n matrix A with m ≥ n using Householder reﬂections.\n",
    "    \n",
    "    Returns\n",
    "    -------\n",
    "    - lower-triangular matrix W ∈ C m×n whose columns are the vectors v_k\n",
    "        deﬁning the successive Householder reﬂections\n",
    "    - triangular matrix R ∈ C n x n\n",
    "    \"\"\"\n",
    "    m, n = A.shape\n",
    "    assert m >= n\n",
    "    \n",
    "    R = np.copy(A).astype(complex)\n",
    "    W = np.zeros_like(R, dtype=complex)\n",
    "    \n",
    "    for k in range(n):\n",
    "        v_k = np.copy(R[k:, k])\n",
    "        sgn = np.sign(v_k[0])\n",
    "        if  sgn == 0: sgn = 1\n",
    "        v_k[0] += np.exp(1j*np.angle(v_k[0])) * sgn * np.linalg.norm(v_k)\n",
    "        v_k /= np.linalg.norm(v_k)\n",
    "        W[k:, k] = v_k\n",
    "        R[k:, k:] -= 2 * np.outer(v_k, np.dot(v_k.conj().T, R[k:, k:]))           # 124 ms\n",
    "        #R[k:, k:] -= 2 * np.dot(np.outer(v_k, v_k.conj().T), R[k:, k:]) # slower # 155 ms\n",
    "    if m > n:\n",
    "        R = np.copy(R[:n,:])\n",
    "    return W, R"
   ]
  },
  {
   "cell_type": "code",
   "execution_count": 25,
   "metadata": {},
   "outputs": [],
   "source": [
    "def formQ_numpy(W):\n",
    "    \"\"\" generates a corresponding m × m orthogonal matrix Q\n",
    "    \"\"\"\n",
    "    m, n = W.shape\n",
    "    Q = np.eye(m, dtype=complex)\n",
    "    \n",
    "    for i in range(n):\n",
    "        for k in range(n-1, -1, -1):\n",
    "            v_k = W[k:, k]\n",
    "            Q[k:, i] -= 2 * v_k * np.dot(v_k.conjugate(), Q[k:, i])\n",
    "    return Q"
   ]
  },
  {
   "cell_type": "code",
   "execution_count": 33,
   "metadata": {},
   "outputs": [
    {
     "name": "stdout",
     "output_type": "stream",
     "text": [
      "1.4 s ± 9.71 ms per loop (mean ± std. dev. of 7 runs, 1 loop each)\n"
     ]
    }
   ],
   "source": [
    "%timeit run_comparison(house_numpy, formQ_numpy)"
   ]
  },
  {
   "cell_type": "markdown",
   "metadata": {},
   "source": [
    "### Python and Numpy and Numba implementation"
   ]
  },
  {
   "cell_type": "code",
   "execution_count": 28,
   "metadata": {},
   "outputs": [],
   "source": [
    "@numba.jit(numba.types.UniTuple(numba.complex128[:,:], 2)(numba.complex128[:,:]), nopython=True)\n",
    "def house_numba(A):\n",
    "    \"\"\"\n",
    "    Computes an implicit representation of a full QR factorization A = QR\n",
    "    of an m x n matrix A with m ≥ n using Householder reﬂections.\n",
    "    \n",
    "    Returns\n",
    "    -------\n",
    "    - lower-triangular matrix W ∈ C m×n whose columns are the vectors v_k\n",
    "        deﬁning the successive Householder reﬂections\n",
    "    - upper-triangular matrix R ∈ C n x n\n",
    "    \"\"\"\n",
    "    m, n = A.shape\n",
    "    assert m >= n\n",
    "    \n",
    "    R = np.copy(A)\n",
    "    W = np.zeros_like(R, dtype=numba.complex128)\n",
    "    \n",
    "    for k in range(n):\n",
    "        v_k = np.copy(R[k:, k])\n",
    "        sgn = np.sign(v_k[0])\n",
    "        if  sgn == 0: sgn = 1\n",
    "        v_k[0] += np.exp(1j*np.angle(v_k[0])) * sgn * np.linalg.norm(v_k)\n",
    "        v_k /= np.linalg.norm(v_k)\n",
    "        W[k:, k] = v_k\n",
    "        R[k:, k:] -= 2 * np.outer(v_k, np.dot(np.conjugate(v_k).T, R[k:, k:]))          # 28   ms\n",
    "        #R[k:, k:] -= 2 * np.dot(np.outer(v_k, np.conjugate(v_k).T), R[k:, k:])  # slower 31.5 ms\n",
    "    if m > n:\n",
    "        R = np.copy(R[:n,:])\n",
    "    return W, R"
   ]
  },
  {
   "cell_type": "code",
   "execution_count": 29,
   "metadata": {},
   "outputs": [],
   "source": [
    "@numba.jit(numba.complex128[:,:](numba.complex128[:,:]), nopython=True)\n",
    "def formQ_numba(W):\n",
    "    \"\"\"\n",
    "    Generates a corresponding m × m orthogonal matrix Q.\n",
    "    \"\"\"\n",
    "    m, n = W.shape\n",
    "    #np.eye(m, dtype=complex128) does not work\n",
    "    Q = np.zeros((m, m), dtype=numba.complex128)\n",
    "    for i in range(m):\n",
    "        Q[i, i] = 1\n",
    "    \n",
    "    for i in range(n):\n",
    "        for k in range(n-1, -1, -1):\n",
    "            v_k = W[k:, k]\n",
    "            Q[k:, i] -= 2 * v_k * np.dot(np.conjugate(v_k), Q[k:, i])\n",
    "    return Q"
   ]
  },
  {
   "cell_type": "code",
   "execution_count": 34,
   "metadata": {},
   "outputs": [
    {
     "name": "stdout",
     "output_type": "stream",
     "text": [
      "570 ms ± 25.4 ms per loop (mean ± std. dev. of 7 runs, 1 loop each)\n"
     ]
    }
   ],
   "source": [
    "%timeit run_comparison(house_numba, formQ_numba)"
   ]
  },
  {
   "cell_type": "markdown",
   "metadata": {},
   "source": [
    "### C++ and xtensor implementation\n",
    "\n",
    "The C++ source code is in ./house_cpp/src/main.cpp"
   ]
  },
  {
   "cell_type": "code",
   "execution_count": 22,
   "metadata": {},
   "outputs": [],
   "source": [
    "# as of now only the formQ method works\n",
    "\n",
    "def compute_Ws():\n",
    "    Ws = []\n",
    "    for i in range(len(matrices)):\n",
    "        W, R = house(matrices[i])\n",
    "        Ws.append(W)\n",
    "    return Ws\n",
    "\n",
    "Ws = compute_Ws()"
   ]
  },
  {
   "cell_type": "code",
   "execution_count": 40,
   "metadata": {},
   "outputs": [],
   "source": [
    "def compute_Qs(formQ):\n",
    "    for W in Ws:\n",
    "        _ = formQ(W)"
   ]
  },
  {
   "cell_type": "code",
   "execution_count": 41,
   "metadata": {
    "scrolled": true
   },
   "outputs": [
    {
     "name": "stdout",
     "output_type": "stream",
     "text": [
      "477 ms ± 13 ms per loop (mean ± std. dev. of 7 runs, 1 loop each)\n"
     ]
    }
   ],
   "source": [
    "%timeit compute_Qs(formQ_numba)"
   ]
  },
  {
   "cell_type": "code",
   "execution_count": 42,
   "metadata": {
    "scrolled": true
   },
   "outputs": [
    {
     "name": "stdout",
     "output_type": "stream",
     "text": [
      "363 ms ± 12.8 ms per loop (mean ± std. dev. of 7 runs, 1 loop each)\n"
     ]
    }
   ],
   "source": [
    "# yeah my first dive into C++ got awarded. 23% of runtime saved\n",
    "%timeit compute_Qs(house_cpp.formQ)"
   ]
  },
  {
   "cell_type": "code",
   "execution_count": 10,
   "metadata": {},
   "outputs": [
    {
     "data": {
      "text/plain": [
       "(88, 78)"
      ]
     },
     "execution_count": 10,
     "metadata": {},
     "output_type": "execute_result"
    }
   ],
   "source": [
    "W1, R1 = house_cpp.house(matrices[1])"
   ]
  }
 ],
 "metadata": {
  "kernelspec": {
   "display_name": "Python 3",
   "language": "python",
   "name": "python3"
  },
  "language_info": {
   "codemirror_mode": {
    "name": "ipython",
    "version": 3
   },
   "file_extension": ".py",
   "mimetype": "text/x-python",
   "name": "python",
   "nbconvert_exporter": "python",
   "pygments_lexer": "ipython3",
   "version": "3.5.4"
  }
 },
 "nbformat": 4,
 "nbformat_minor": 2
}
