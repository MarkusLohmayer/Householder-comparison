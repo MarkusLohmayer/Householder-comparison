{
 "cells": [
  {
   "cell_type": "markdown",
   "metadata": {},
   "source": [
    "## Performance comparison\n",
    "\n",
    "based on the Householder algorithm for orthogonal triangularization"
   ]
  },
  {
   "cell_type": "code",
   "execution_count": 1,
   "metadata": {},
   "outputs": [],
   "source": [
    "import numpy as np\n",
    "\n",
    "import numba"
   ]
  },
  {
   "cell_type": "markdown",
   "metadata": {},
   "source": [
    "###  Test matrices"
   ]
  },
  {
   "cell_type": "code",
   "execution_count": 2,
   "metadata": {},
   "outputs": [],
   "source": [
    "def generate_test_matrices(num=50):\n",
    "    matrices = []\n",
    "    \n",
    "    def generate_matrix(m, n):\n",
    "        re = np.random.rand(m, n)\n",
    "        im = np.random.rand(m, n)\n",
    "        return (re + 1j * im)\n",
    "    \n",
    "    for i in range(num):\n",
    "        two_random_ints = np.random.randint(low=2, high=100, size=2)\n",
    "        m, n = np.max(two_random_ints), np.min(two_random_ints)\n",
    "        matrices.append(generate_matrix(m, n))\n",
    "    \n",
    "    return matrices"
   ]
  },
  {
   "cell_type": "code",
   "execution_count": 3,
   "metadata": {},
   "outputs": [],
   "source": [
    "matrices  = generate_test_matrices(num=10)"
   ]
  },
  {
   "cell_type": "code",
   "execution_count": 6,
   "metadata": {},
   "outputs": [
    {
     "data": {
      "text/plain": [
       "(25, 2)"
      ]
     },
     "execution_count": 6,
     "metadata": {},
     "output_type": "execute_result"
    }
   ],
   "source": [
    "matrices[1].shape"
   ]
  },
  {
   "cell_type": "markdown",
   "metadata": {},
   "source": [
    "### Python + Numpy implementation"
   ]
  },
  {
   "cell_type": "code",
   "execution_count": 4,
   "metadata": {},
   "outputs": [],
   "source": [
    "def house(A):\n",
    "    \"\"\"\n",
    "    Computes an implicit representation of a full QR factorization A = QR\n",
    "    of an m x n matrix A with m ≥ n using Householder reﬂections.\n",
    "    \n",
    "    Returns\n",
    "    -------\n",
    "    - lower-triangular matrix W ∈ C m×n whose columns are the vectors v_k\n",
    "        deﬁning the successive Householder reﬂections\n",
    "    - triangular matrix R ∈ C n x n\n",
    "    \"\"\"\n",
    "    m, n = A.shape\n",
    "    assert m >= n\n",
    "    \n",
    "    R = np.copy(A).astype(complex)\n",
    "    W = np.zeros_like(R, dtype=complex)\n",
    "    \n",
    "    for k in range(n):\n",
    "        v_k = np.copy(R[k:, k])\n",
    "        sgn = np.sign(v_k[0])\n",
    "        if  sgn == 0: sgn = 1\n",
    "        v_k[0] += np.exp(1j*np.angle(v_k[0])) * sgn * np.linalg.norm(np.abs(v_k))\n",
    "        v_k /= np.linalg.norm(v_k)\n",
    "        W[k:, k] = v_k\n",
    "        R[k:, k:] -= 2 * np.outer(v_k, np.dot(v_k.conj().T, R[k:, k:]))           # 124 ms\n",
    "        #R[k:, k:] -= 2 * np.dot(np.outer(v_k, v_k.conj().T), R[k:, k:]) # slower # 155 ms\n",
    "    if m > n:\n",
    "        R = np.copy(R[:n,:])\n",
    "    return W, R"
   ]
  },
  {
   "cell_type": "code",
   "execution_count": 5,
   "metadata": {},
   "outputs": [],
   "source": [
    "def formQ(W):\n",
    "    \"\"\" generates a corresponding m × m orthogonal matrix Q\n",
    "    \"\"\"\n",
    "    m, n = W.shape\n",
    "    Q = np.eye(m, dtype=complex)\n",
    "    \n",
    "    for i in range(n):\n",
    "        for k in range(n-1, -1, -1):\n",
    "            v_k = W[k:, k]\n",
    "            Q[k:, i] -= 2 * v_k * np.dot(v_k.conjugate(), Q[k:, i])\n",
    "    return Q"
   ]
  },
  {
   "cell_type": "code",
   "execution_count": 8,
   "metadata": {},
   "outputs": [],
   "source": [
    "def test_house(A):\n",
    "    m, n = A.shape\n",
    "    assert m >= n\n",
    "    \n",
    "    W, R = house(A)\n",
    "    Q = formQ(W)\n",
    "    \n",
    "    assert np.allclose(A, Q[:, :n].dot(R))\n",
    "\n",
    "test_house(matrices[0])"
   ]
  },
  {
   "cell_type": "code",
   "execution_count": 16,
   "metadata": {},
   "outputs": [],
   "source": [
    "def run():\n",
    "    for i in range(len(matrices)):\n",
    "        test_house(matrices[i])"
   ]
  },
  {
   "cell_type": "code",
   "execution_count": 19,
   "metadata": {},
   "outputs": [
    {
     "name": "stdout",
     "output_type": "stream",
     "text": [
      "221 ms ± 8.43 ms per loop (mean ± std. dev. of 7 runs, 1 loop each)\n"
     ]
    }
   ],
   "source": [
    "%timeit run()"
   ]
  },
  {
   "cell_type": "markdown",
   "metadata": {},
   "source": [
    "### Python + Numpy + Numba implementation"
   ]
  },
  {
   "cell_type": "code",
   "execution_count": 20,
   "metadata": {},
   "outputs": [],
   "source": [
    "@numba.jit(numba.types.UniTuple(numba.complex128[:,:], 2)(numba.complex128[:,:]), nopython=True)\n",
    "def house(A):\n",
    "    \"\"\"\n",
    "    Computes an implicit representation of a full QR factorization A = QR\n",
    "    of an m x n matrix A with m ≥ n using Householder reﬂections.\n",
    "    \n",
    "    Returns\n",
    "    -------\n",
    "    - lower-triangular matrix W ∈ C m×n whose columns are the vectors v_k\n",
    "        deﬁning the successive Householder reﬂections\n",
    "    - upper-triangular matrix R ∈ C n x n\n",
    "    \"\"\"\n",
    "    m, n = A.shape\n",
    "    assert m >= n\n",
    "    \n",
    "    R = np.copy(A)\n",
    "    W = np.zeros_like(R, dtype=numba.complex128)\n",
    "    \n",
    "    for k in range(n):\n",
    "        v_k = np.copy(R[k:, k])\n",
    "        sgn = np.sign(v_k[0])\n",
    "        if  sgn == 0: sgn = 1\n",
    "        v_k[0] += np.exp(1j*np.angle(v_k[0])) * sgn * np.linalg.norm(np.abs(v_k))\n",
    "        v_k /= np.linalg.norm(v_k)\n",
    "        W[k:, k] = v_k\n",
    "        R[k:, k:] -= 2 * np.outer(v_k, np.dot(np.conjugate(v_k).T, R[k:, k:]))          # 28 ms\n",
    "        #R[k:, k:] -= 2 * np.dot(np.outer(v_k, np.conjugate(v_k).T), R[k:, k:])  # slower 31.5 ms\n",
    "    if m > n:\n",
    "        R = np.copy(R[:n,:])\n",
    "    return W, R"
   ]
  },
  {
   "cell_type": "code",
   "execution_count": 23,
   "metadata": {},
   "outputs": [],
   "source": [
    "@numba.jit(numba.complex128[:,:](numba.complex128[:,:]), nopython=True)\n",
    "def formQ(W):\n",
    "    \"\"\"\n",
    "    Generates a corresponding m × m orthogonal matrix Q.\n",
    "    \"\"\"\n",
    "    m, n = W.shape\n",
    "    #np.eye(m, dtype=complex128) does not work\n",
    "    Q = np.zeros((m, m), dtype=numba.complex128)\n",
    "    for i in range(m):\n",
    "        Q[i, i] = 1\n",
    "    \n",
    "    for i in range(n):\n",
    "        for k in range(n-1, -1, -1):\n",
    "            v_k = W[k:, k]\n",
    "            Q[k:, i] -= 2 * v_k * np.dot(np.conjugate(v_k), Q[k:, i])\n",
    "    return Q"
   ]
  },
  {
   "cell_type": "code",
   "execution_count": 24,
   "metadata": {},
   "outputs": [
    {
     "name": "stdout",
     "output_type": "stream",
     "text": [
      "71.1 ms ± 3.99 ms per loop (mean ± std. dev. of 7 runs, 10 loops each)\n"
     ]
    }
   ],
   "source": [
    "%timeit run()"
   ]
  },
  {
   "cell_type": "markdown",
   "metadata": {},
   "source": [
    "### C++ + xtensor implementation (+ pybind11 Python bindings)"
   ]
  },
  {
   "cell_type": "code",
   "execution_count": 1,
   "metadata": {},
   "outputs": [],
   "source": [
    "import house_cpp\n",
    "import numpy as np"
   ]
  },
  {
   "cell_type": "code",
   "execution_count": 2,
   "metadata": {},
   "outputs": [
    {
     "data": {
      "text/plain": [
       "array([[ 0.+0.j,  0.+0.j,  0.+0.j],\n",
       "       [ 0.+0.j,  0.+0.j,  0.+0.j],\n",
       "       [ 0.+0.j,  0.+0.j,  0.+0.j],\n",
       "       [ 0.+0.j,  0.+0.j,  0.+0.j],\n",
       "       [ 0.+0.j,  0.+0.j,  0.+0.j]])"
      ]
     },
     "execution_count": 2,
     "metadata": {},
     "output_type": "execute_result"
    }
   ],
   "source": [
    "house_cpp.house(np.ones((5,3)))"
   ]
  },
  {
   "cell_type": "code",
   "execution_count": 11,
   "metadata": {},
   "outputs": [],
   "source": [
    "W, R = house(matrices[1])"
   ]
  },
  {
   "cell_type": "code",
   "execution_count": 10,
   "metadata": {},
   "outputs": [
    {
     "data": {
      "text/plain": [
       "(88, 78)"
      ]
     },
     "execution_count": 10,
     "metadata": {},
     "output_type": "execute_result"
    }
   ],
   "source": [
    "W1, R1 = house_cpp.house(matrices[1])"
   ]
  },
  {
   "cell_type": "code",
   "execution_count": 11,
   "metadata": {},
   "outputs": [
    {
     "data": {
      "text/plain": [
       "True"
      ]
     },
     "execution_count": 11,
     "metadata": {},
     "output_type": "execute_result"
    }
   ],
   "source": [
    "np.allclose(W, W1)"
   ]
  },
  {
   "cell_type": "code",
   "execution_count": 12,
   "metadata": {},
   "outputs": [
    {
     "data": {
      "text/plain": [
       "True"
      ]
     },
     "execution_count": 12,
     "metadata": {},
     "output_type": "execute_result"
    }
   ],
   "source": [
    "np.allclose(formQ(W), house_cpp.formQ(W))"
   ]
  }
 ],
 "metadata": {
  "kernelspec": {
   "display_name": "Python 3",
   "language": "python",
   "name": "python3"
  },
  "language_info": {
   "codemirror_mode": {
    "name": "ipython",
    "version": 3
   },
   "file_extension": ".py",
   "mimetype": "text/x-python",
   "name": "python",
   "nbconvert_exporter": "python",
   "pygments_lexer": "ipython3",
   "version": "3.5.4"
  }
 },
 "nbformat": 4,
 "nbformat_minor": 2
}
